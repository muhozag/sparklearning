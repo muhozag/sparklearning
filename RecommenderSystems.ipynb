{
  "nbformat": 4,
  "nbformat_minor": 0,
  "metadata": {
    "colab": {
      "provenance": [],
      "authorship_tag": "ABX9TyMmcMosM4RcRcLGsU7VViLg",
      "include_colab_link": true
    },
    "kernelspec": {
      "name": "python3",
      "display_name": "Python 3"
    },
    "language_info": {
      "name": "python"
    }
  },
  "cells": [
    {
      "cell_type": "markdown",
      "metadata": {
        "id": "view-in-github",
        "colab_type": "text"
      },
      "source": [
        "<a href=\"https://colab.research.google.com/github/muhozag/sparklearning/blob/recommender/RecommenderSystems.ipynb\" target=\"_parent\"><img src=\"https://colab.research.google.com/assets/colab-badge.svg\" alt=\"Open In Colab\"/></a>"
      ]
    },
    {
      "cell_type": "markdown",
      "source": [
        "# Recommender Systems: Movie Example"
      ],
      "metadata": {
        "id": "VD0LArmjxLXN"
      }
    },
    {
      "cell_type": "code",
      "source": [
        "from pyspark.sql import SparkSession"
      ],
      "metadata": {
        "id": "gQmqJDRGxU15"
      },
      "execution_count": 4,
      "outputs": []
    },
    {
      "cell_type": "code",
      "source": [
        "spark = SparkSession.builder.appName('rec').getOrCreate()"
      ],
      "metadata": {
        "id": "oz0qQxTLxZSB"
      },
      "execution_count": 5,
      "outputs": []
    },
    {
      "cell_type": "code",
      "source": [
        "from pyspark.ml.evaluation import RegressionEvaluator\n",
        "from pyspark.ml.recommendation import ALS"
      ],
      "metadata": {
        "id": "UXEqv0Hdxbww"
      },
      "execution_count": 6,
      "outputs": []
    },
    {
      "cell_type": "code",
      "source": [
        "data = spark.read.csv('movielens_ratings.csv',inferSchema=True,header=True)"
      ],
      "metadata": {
        "id": "807ie6tdxwqc"
      },
      "execution_count": 7,
      "outputs": []
    },
    {
      "cell_type": "code",
      "source": [
        "data.printSchema()"
      ],
      "metadata": {
        "colab": {
          "base_uri": "https://localhost:8080/"
        },
        "id": "KNoXtCXByQeL",
        "outputId": "ac224f05-c52b-40f8-c24a-8d65a3a7de25"
      },
      "execution_count": 8,
      "outputs": [
        {
          "output_type": "stream",
          "name": "stdout",
          "text": [
            "root\n",
            " |-- movieId: integer (nullable = true)\n",
            " |-- rating: double (nullable = true)\n",
            " |-- userId: integer (nullable = true)\n",
            "\n"
          ]
        }
      ]
    },
    {
      "cell_type": "code",
      "source": [
        "data.describe().show()"
      ],
      "metadata": {
        "colab": {
          "base_uri": "https://localhost:8080/"
        },
        "id": "P8zzSCMByURA",
        "outputId": "32e2ef6c-f607-4adc-c65b-742536d8398d"
      },
      "execution_count": 10,
      "outputs": [
        {
          "output_type": "stream",
          "name": "stdout",
          "text": [
            "+-------+------------------+------------------+------------------+\n",
            "|summary|           movieId|            rating|            userId|\n",
            "+-------+------------------+------------------+------------------+\n",
            "|  count|              1501|              1501|              1501|\n",
            "|   mean| 49.40572951365756|1.7741505662891406|14.383744170552964|\n",
            "| stddev|28.937034065088994| 1.187276166124803| 8.591040424293272|\n",
            "|    min|                 0|               1.0|                 0|\n",
            "|    max|                99|               5.0|                29|\n",
            "+-------+------------------+------------------+------------------+\n",
            "\n"
          ]
        }
      ]
    },
    {
      "cell_type": "code",
      "source": [
        "data.show()"
      ],
      "metadata": {
        "colab": {
          "base_uri": "https://localhost:8080/"
        },
        "id": "aGUVbve7yg0y",
        "outputId": "c1e6e3f9-2ece-4a66-deb7-8c9ef437f76c"
      },
      "execution_count": 11,
      "outputs": [
        {
          "output_type": "stream",
          "name": "stdout",
          "text": [
            "+-------+------+------+\n",
            "|movieId|rating|userId|\n",
            "+-------+------+------+\n",
            "|      2|   3.0|     0|\n",
            "|      3|   1.0|     0|\n",
            "|      5|   2.0|     0|\n",
            "|      9|   4.0|     0|\n",
            "|     11|   1.0|     0|\n",
            "|     12|   2.0|     0|\n",
            "|     15|   1.0|     0|\n",
            "|     17|   1.0|     0|\n",
            "|     19|   1.0|     0|\n",
            "|     21|   1.0|     0|\n",
            "|     23|   1.0|     0|\n",
            "|     26|   3.0|     0|\n",
            "|     27|   1.0|     0|\n",
            "|     28|   1.0|     0|\n",
            "|     29|   1.0|     0|\n",
            "|     30|   1.0|     0|\n",
            "|     31|   1.0|     0|\n",
            "|     34|   1.0|     0|\n",
            "|     37|   1.0|     0|\n",
            "|     41|   2.0|     0|\n",
            "+-------+------+------+\n",
            "only showing top 20 rows\n",
            "\n"
          ]
        }
      ]
    },
    {
      "cell_type": "code",
      "source": [
        "training_data, test_data = data.randomSplit([0.75, 0.25])"
      ],
      "metadata": {
        "id": "bASwKn4tykpC"
      },
      "execution_count": 12,
      "outputs": []
    },
    {
      "cell_type": "code",
      "source": [
        "als = ALS(maxIter=5, regParam=0.01, userCol='userId', itemCol='movieId', ratingCol='rating')"
      ],
      "metadata": {
        "id": "QImex1lSzAyd"
      },
      "execution_count": 13,
      "outputs": []
    },
    {
      "cell_type": "code",
      "source": [
        "model = als.fit(training_data)"
      ],
      "metadata": {
        "id": "eflHdU78zSeP"
      },
      "execution_count": 14,
      "outputs": []
    },
    {
      "cell_type": "code",
      "source": [
        "model.transform(test_data).show()"
      ],
      "metadata": {
        "colab": {
          "base_uri": "https://localhost:8080/"
        },
        "id": "zdNwmgR6zXLs",
        "outputId": "4edb2953-390c-41fd-97c1-0aadc8e8d930"
      },
      "execution_count": 15,
      "outputs": [
        {
          "output_type": "stream",
          "name": "stdout",
          "text": [
            "+-------+------+------+------------+\n",
            "|movieId|rating|userId|  prediction|\n",
            "+-------+------+------+------------+\n",
            "|      2|   1.0|    26|    2.776901|\n",
            "|      2|   1.0|    12|  -0.8582172|\n",
            "|      0|   1.0|    22|   1.3907368|\n",
            "|      2|   2.0|     1|    4.491065|\n",
            "|      3|   1.0|     1|   0.9713031|\n",
            "|      0|   1.0|    13|  -0.7122837|\n",
            "|      0|   1.0|     6|  -1.1551566|\n",
            "|      0|   1.0|    19|  0.73965013|\n",
            "|      1|   1.0|    19|   2.3638434|\n",
            "|      0|   1.0|    15|  -0.6869138|\n",
            "|      2|   1.0|    15|  -1.7304538|\n",
            "|      2|   1.0|    17|   3.2258954|\n",
            "|      4|   1.0|     9|   2.0903714|\n",
            "|      1|   1.0|     4|   0.0702703|\n",
            "|      0|   1.0|     8|-0.012443304|\n",
            "|      2|   1.0|    23|   1.9032135|\n",
            "|      2|   1.0|    25|  0.11984444|\n",
            "|      2|   4.0|    21|     5.69049|\n",
            "|      3|   3.0|    14|   1.8032113|\n",
            "|      2|   3.0|     0|  -2.9139676|\n",
            "+-------+------+------+------------+\n",
            "only showing top 20 rows\n",
            "\n"
          ]
        }
      ]
    },
    {
      "cell_type": "code",
      "source": [
        "evaluator = RegressionEvaluator(metricName='rmse', labelCol='rating', predictionCol='prediction')"
      ],
      "metadata": {
        "id": "bE-xwDWg0K1S"
      },
      "execution_count": 16,
      "outputs": []
    },
    {
      "cell_type": "code",
      "source": [
        "rmse = evaluator.evaluate(model.transform(test_data))"
      ],
      "metadata": {
        "id": "RWAO9xv50UaR"
      },
      "execution_count": 17,
      "outputs": []
    },
    {
      "cell_type": "code",
      "source": [
        "rmse"
      ],
      "metadata": {
        "colab": {
          "base_uri": "https://localhost:8080/"
        },
        "id": "h-nOjBV00iQd",
        "outputId": "5f8aac9f-9edc-457d-aa8e-b60a7002479f"
      },
      "execution_count": 18,
      "outputs": [
        {
          "output_type": "execute_result",
          "data": {
            "text/plain": [
              "1.8873027672126772"
            ]
          },
          "metadata": {},
          "execution_count": 18
        }
      ]
    },
    {
      "cell_type": "markdown",
      "source": [
        "**Test on a new user**"
      ],
      "metadata": {
        "id": "K30cmu0w03t6"
      }
    },
    {
      "cell_type": "code",
      "source": [
        "single_user = test_data.filter(test_data['userId']==11).select(['movieId','userId'])"
      ],
      "metadata": {
        "id": "TpTQi01k07gs"
      },
      "execution_count": 19,
      "outputs": []
    },
    {
      "cell_type": "code",
      "source": [
        "single_user.show()"
      ],
      "metadata": {
        "colab": {
          "base_uri": "https://localhost:8080/"
        },
        "id": "aSBj4MPK1Fyl",
        "outputId": "3e409882-6f9f-4f42-d41b-d4daa3734bb7"
      },
      "execution_count": 20,
      "outputs": [
        {
          "output_type": "stream",
          "name": "stdout",
          "text": [
            "+-------+------+\n",
            "|movieId|userId|\n",
            "+-------+------+\n",
            "|      6|    11|\n",
            "|      9|    11|\n",
            "|     10|    11|\n",
            "|     11|    11|\n",
            "|     16|    11|\n",
            "|     25|    11|\n",
            "|     27|    11|\n",
            "|     30|    11|\n",
            "|     32|    11|\n",
            "|     37|    11|\n",
            "|     45|    11|\n",
            "|     48|    11|\n",
            "|     67|    11|\n",
            "|     72|    11|\n",
            "|     80|    11|\n",
            "|     86|    11|\n",
            "+-------+------+\n",
            "\n"
          ]
        }
      ]
    },
    {
      "cell_type": "code",
      "source": [
        "recommendations = model.transform(single_user)"
      ],
      "metadata": {
        "id": "U3s9dD-11LcI"
      },
      "execution_count": 21,
      "outputs": []
    },
    {
      "cell_type": "code",
      "source": [
        "recommendations.orderBy('prediction',ascending=False).show()"
      ],
      "metadata": {
        "colab": {
          "base_uri": "https://localhost:8080/"
        },
        "id": "6AiDIEqt1TMM",
        "outputId": "d059c6ae-37de-48e8-fea5-4a4bc19cfd3a"
      },
      "execution_count": 22,
      "outputs": [
        {
          "output_type": "stream",
          "name": "stdout",
          "text": [
            "+-------+------+-----------+\n",
            "|movieId|userId| prediction|\n",
            "+-------+------+-----------+\n",
            "|     32|    11|  5.4705877|\n",
            "|     67|    11|   5.382704|\n",
            "|     27|    11|  4.7116504|\n",
            "|     48|    11|   3.296233|\n",
            "|     25|    11|  3.2195861|\n",
            "|     10|    11|   3.147543|\n",
            "|     80|    11|  2.0223305|\n",
            "|     16|    11|  1.9611602|\n",
            "|     86|    11|  1.6061102|\n",
            "|     37|    11|   1.531517|\n",
            "|     45|    11|  1.1802475|\n",
            "|     72|    11|  1.0706995|\n",
            "|     30|    11|  0.9875894|\n",
            "|      6|    11| 0.07045202|\n",
            "|      9|    11|-0.04733655|\n",
            "|     11|    11| -1.3082914|\n",
            "+-------+------+-----------+\n",
            "\n"
          ]
        }
      ]
    }
  ]
}
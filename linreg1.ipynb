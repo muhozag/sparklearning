{
  "nbformat": 4,
  "nbformat_minor": 0,
  "metadata": {
    "colab": {
      "provenance": [],
      "authorship_tag": "ABX9TyNjL42VdLaFD0LS4bEL3tnP",
      "include_colab_link": true
    },
    "kernelspec": {
      "name": "python3",
      "display_name": "Python 3"
    },
    "language_info": {
      "name": "python"
    }
  },
  "cells": [
    {
      "cell_type": "markdown",
      "metadata": {
        "id": "view-in-github",
        "colab_type": "text"
      },
      "source": [
        "<a href=\"https://colab.research.google.com/github/muhozag/sparklearning/blob/linearreg/linreg1.ipynb\" target=\"_parent\"><img src=\"https://colab.research.google.com/assets/colab-badge.svg\" alt=\"Open In Colab\"/></a>"
      ]
    },
    {
      "cell_type": "code",
      "execution_count": null,
      "metadata": {
        "id": "NYdYR0L8S2VD"
      },
      "outputs": [],
      "source": [
        "from pyspark.sql import SparkSession\n",
        "spark = SparkSession.builder.appName('Basics').getOrCreate()\n",
        "from pyspark.ml.regression import LinearRegression\n"
      ]
    },
    {
      "cell_type": "code",
      "source": [
        "data = spark.read.csv('Ecommerce_Customers.csv',inferSchema=True,header=True)"
      ],
      "metadata": {
        "id": "K3qP-Xe1T3Xf"
      },
      "execution_count": null,
      "outputs": []
    },
    {
      "cell_type": "code",
      "source": [
        "data.printSchema()"
      ],
      "metadata": {
        "colab": {
          "base_uri": "https://localhost:8080/"
        },
        "id": "VWec2uMkT8Zv",
        "outputId": "f7d97e2e-59af-4f95-91e6-d17d6866e46a"
      },
      "execution_count": null,
      "outputs": [
        {
          "output_type": "stream",
          "name": "stdout",
          "text": [
            "root\n",
            " |-- Email: string (nullable = true)\n",
            " |-- Address: string (nullable = true)\n",
            " |-- Avatar: string (nullable = true)\n",
            " |-- Avg Session Length: double (nullable = true)\n",
            " |-- Time on App: double (nullable = true)\n",
            " |-- Time on Website: double (nullable = true)\n",
            " |-- Length of Membership: double (nullable = true)\n",
            " |-- Yearly Amount Spent: double (nullable = true)\n",
            "\n"
          ]
        }
      ]
    },
    {
      "cell_type": "code",
      "source": [
        "for item in data.head(2)[1]:\n",
        "    print(item)"
      ],
      "metadata": {
        "colab": {
          "base_uri": "https://localhost:8080/"
        },
        "id": "NE7EdvJBUCyM",
        "outputId": "32576803-b54c-401a-d0df-665bd35b4473"
      },
      "execution_count": null,
      "outputs": [
        {
          "output_type": "stream",
          "name": "stdout",
          "text": [
            "hduke@hotmail.com\n",
            "4547 Archer CommonDiazchester, CA 06566-8576\n",
            "DarkGreen\n",
            "31.92627202636016\n",
            "11.109460728682564\n",
            "37.268958868297744\n",
            "2.66403418213262\n",
            "392.2049334443264\n"
          ]
        }
      ]
    },
    {
      "cell_type": "code",
      "source": [
        "from pyspark.ml.linalg import Vectors\n",
        "from pyspark.ml.feature import VectorAssembler"
      ],
      "metadata": {
        "id": "Zud7MlJ2Ut-t"
      },
      "execution_count": null,
      "outputs": []
    },
    {
      "cell_type": "code",
      "source": [
        "data.columns"
      ],
      "metadata": {
        "colab": {
          "base_uri": "https://localhost:8080/"
        },
        "id": "b-rqNx4wVGSS",
        "outputId": "bbfa5b96-71a3-4d47-9ca9-c3035e06fe25"
      },
      "execution_count": null,
      "outputs": [
        {
          "output_type": "execute_result",
          "data": {
            "text/plain": [
              "['Email',\n",
              " 'Address',\n",
              " 'Avatar',\n",
              " 'Avg Session Length',\n",
              " 'Time on App',\n",
              " 'Time on Website',\n",
              " 'Length of Membership',\n",
              " 'Yearly Amount Spent']"
            ]
          },
          "metadata": {},
          "execution_count": 7
        }
      ]
    },
    {
      "cell_type": "code",
      "source": [
        "assembler = VectorAssembler(\n",
        "    inputCols=[\"Avg Session Length\", \"Time on App\",\n",
        "               \"Time on Website\",'Length of Membership'],\n",
        "    outputCol=\"features\")"
      ],
      "metadata": {
        "id": "jvUoe--5VKGz"
      },
      "execution_count": null,
      "outputs": []
    },
    {
      "cell_type": "code",
      "source": [
        "output =  assembler.transform(data)"
      ],
      "metadata": {
        "id": "GDtUtKo0VlFR"
      },
      "execution_count": null,
      "outputs": []
    },
    {
      "cell_type": "code",
      "source": [
        "output.head(1)"
      ],
      "metadata": {
        "colab": {
          "base_uri": "https://localhost:8080/"
        },
        "id": "H4CrqIP4Vujw",
        "outputId": "f85e4ea5-ba4f-4c46-bd2f-003250c3b3cf"
      },
      "execution_count": null,
      "outputs": [
        {
          "output_type": "execute_result",
          "data": {
            "text/plain": [
              "[Row(Email='mstephenson@fernandez.com', Address='835 Frank TunnelWrightmouth, MI 82180-9605', Avatar='Violet', Avg Session Length=34.49726772511229, Time on App=12.65565114916675, Time on Website=39.57766801952616, Length of Membership=4.0826206329529615, Yearly Amount Spent=587.9510539684005, features=DenseVector([34.4973, 12.6557, 39.5777, 4.0826]))]"
            ]
          },
          "metadata": {},
          "execution_count": 10
        }
      ]
    },
    {
      "cell_type": "code",
      "source": [
        "final_data = output.select(\"features\",'Yearly Amount Spent')"
      ],
      "metadata": {
        "id": "qaWmurC8WIe9"
      },
      "execution_count": null,
      "outputs": []
    },
    {
      "cell_type": "code",
      "source": [
        "final_data.show()"
      ],
      "metadata": {
        "colab": {
          "base_uri": "https://localhost:8080/"
        },
        "id": "9DmVcDHuWSvZ",
        "outputId": "9cde36a2-a83a-4815-ee03-9b360a849efe"
      },
      "execution_count": null,
      "outputs": [
        {
          "output_type": "stream",
          "name": "stdout",
          "text": [
            "+--------------------+-------------------+\n",
            "|            features|Yearly Amount Spent|\n",
            "+--------------------+-------------------+\n",
            "|[34.4972677251122...|  587.9510539684005|\n",
            "|[31.9262720263601...|  392.2049334443264|\n",
            "|[33.0009147556426...| 487.54750486747207|\n",
            "|[34.3055566297555...|  581.8523440352177|\n",
            "|[33.3306725236463...|  599.4060920457634|\n",
            "|[33.8710378793419...|   637.102447915074|\n",
            "|[32.0215955013870...|  521.5721747578274|\n",
            "|[32.7391429383803...|  549.9041461052942|\n",
            "|[33.9877728956856...|  570.2004089636196|\n",
            "|[31.9365486184489...|  427.1993848953282|\n",
            "|[33.9925727749537...|  492.6060127179966|\n",
            "|[33.8793608248049...|  522.3374046069357|\n",
            "|[29.5324289670579...|  408.6403510726275|\n",
            "|[33.1903340437226...|  573.4158673313865|\n",
            "|[32.3879758531538...|  470.4527333009554|\n",
            "|[30.7377203726281...|  461.7807421962299|\n",
            "|[32.1253868972878...| 457.84769594494855|\n",
            "|[32.3388993230671...| 407.70454754954415|\n",
            "|[32.1878120459321...|  452.3156754800354|\n",
            "|[32.6178560628234...|   605.061038804892|\n",
            "+--------------------+-------------------+\n",
            "only showing top 20 rows\n",
            "\n"
          ]
        }
      ]
    },
    {
      "cell_type": "code",
      "source": [
        "training_data,test_data = final_data.randomSplit([0.7,0.3])"
      ],
      "metadata": {
        "id": "txIAnEfgWY8H"
      },
      "execution_count": null,
      "outputs": []
    },
    {
      "cell_type": "code",
      "source": [
        "training_data.describe().show()"
      ],
      "metadata": {
        "colab": {
          "base_uri": "https://localhost:8080/"
        },
        "id": "dmRJwh52Wj1p",
        "outputId": "f4b9c2a0-6519-4913-bccf-1714c3f22f85"
      },
      "execution_count": null,
      "outputs": [
        {
          "output_type": "stream",
          "name": "stdout",
          "text": [
            "+-------+-------------------+\n",
            "|summary|Yearly Amount Spent|\n",
            "+-------+-------------------+\n",
            "|  count|                352|\n",
            "|   mean|   499.110068740667|\n",
            "| stddev|  82.39369418268753|\n",
            "|    min| 256.67058229005585|\n",
            "|    max|  765.5184619388373|\n",
            "+-------+-------------------+\n",
            "\n"
          ]
        }
      ]
    },
    {
      "cell_type": "code",
      "source": [
        "lr = LinearRegression(labelCol='Yearly Amount Spent')"
      ],
      "metadata": {
        "id": "Okfies40Wqm3"
      },
      "execution_count": null,
      "outputs": []
    },
    {
      "cell_type": "code",
      "source": [
        "lr_model = lr.fit(training_data)"
      ],
      "metadata": {
        "id": "XeSSAxq6W6Ld"
      },
      "execution_count": null,
      "outputs": []
    },
    {
      "cell_type": "code",
      "source": [
        "test_results = lr_model.evaluate(test_data)"
      ],
      "metadata": {
        "id": "2iF4dM2zXAZw"
      },
      "execution_count": null,
      "outputs": []
    },
    {
      "cell_type": "code",
      "source": [
        "test_results.residuals.show()"
      ],
      "metadata": {
        "colab": {
          "base_uri": "https://localhost:8080/"
        },
        "id": "9vVZ16y0XI__",
        "outputId": "64e5a313-2834-41a0-fdce-a647abf34d7d"
      },
      "execution_count": null,
      "outputs": [
        {
          "output_type": "stream",
          "name": "stdout",
          "text": [
            "+-------------------+\n",
            "|          residuals|\n",
            "+-------------------+\n",
            "| 11.022319561792301|\n",
            "| 10.977235464647379|\n",
            "|-3.6114032046654643|\n",
            "|-20.949888983933192|\n",
            "|  9.972178236643686|\n",
            "|  4.167894281656231|\n",
            "| -7.181752971181027|\n",
            "| -5.514771268476579|\n",
            "| -5.136423361382981|\n",
            "|  3.368010313178104|\n",
            "|-13.956657218725468|\n",
            "| 18.349333491080642|\n",
            "|-4.7918821060237065|\n",
            "| -5.941301878603042|\n",
            "|  3.164478591792033|\n",
            "|-17.780947148608732|\n",
            "|   7.85963095432129|\n",
            "| -9.262706401137564|\n",
            "|  1.208248311193529|\n",
            "|  12.23630600291392|\n",
            "+-------------------+\n",
            "only showing top 20 rows\n",
            "\n"
          ]
        }
      ]
    },
    {
      "cell_type": "code",
      "source": [
        "test_results.rootMeanSquaredError"
      ],
      "metadata": {
        "colab": {
          "base_uri": "https://localhost:8080/"
        },
        "id": "JslbaFUDXQEH",
        "outputId": "ea22a2c3-6127-45f9-b3e0-6e1eede80bb5"
      },
      "execution_count": null,
      "outputs": [
        {
          "output_type": "execute_result",
          "data": {
            "text/plain": [
              "10.639307785804762"
            ]
          },
          "metadata": {},
          "execution_count": 19
        }
      ]
    },
    {
      "cell_type": "code",
      "source": [
        "test_results.r2"
      ],
      "metadata": {
        "colab": {
          "base_uri": "https://localhost:8080/"
        },
        "id": "ytKmi4icXU9O",
        "outputId": "1b48d1a2-43bf-4bd4-bd3e-35873db90f03"
      },
      "execution_count": null,
      "outputs": [
        {
          "output_type": "execute_result",
          "data": {
            "text/plain": [
              "0.9778470720394823"
            ]
          },
          "metadata": {},
          "execution_count": 20
        }
      ]
    },
    {
      "cell_type": "code",
      "source": [
        "final_data.describe().show()"
      ],
      "metadata": {
        "colab": {
          "base_uri": "https://localhost:8080/"
        },
        "id": "idPgEpiPXeM-",
        "outputId": "6880be74-0244-4e0a-b825-00d6570c68af"
      },
      "execution_count": null,
      "outputs": [
        {
          "output_type": "stream",
          "name": "stdout",
          "text": [
            "+-------+-------------------+\n",
            "|summary|Yearly Amount Spent|\n",
            "+-------+-------------------+\n",
            "|  count|                500|\n",
            "|   mean|  499.3140382585909|\n",
            "| stddev|   79.3147815497068|\n",
            "|    min| 256.67058229005585|\n",
            "|    max|  765.5184619388373|\n",
            "+-------+-------------------+\n",
            "\n"
          ]
        }
      ]
    },
    {
      "cell_type": "code",
      "source": [
        "unlabeled_data = test_data.select('features')"
      ],
      "metadata": {
        "id": "d8nWohgvYTyy"
      },
      "execution_count": null,
      "outputs": []
    },
    {
      "cell_type": "code",
      "source": [
        "unlabeled_data.show()"
      ],
      "metadata": {
        "colab": {
          "base_uri": "https://localhost:8080/"
        },
        "id": "R_QRydRVYX4U",
        "outputId": "51285829-e30b-43c4-c574-a4079b73b86a"
      },
      "execution_count": null,
      "outputs": [
        {
          "output_type": "stream",
          "name": "stdout",
          "text": [
            "+--------------------+\n",
            "|            features|\n",
            "+--------------------+\n",
            "|[29.5324289670579...|\n",
            "|[30.7377203726281...|\n",
            "|[30.8794843441274...|\n",
            "|[31.1239743499119...|\n",
            "|[31.1695067987115...|\n",
            "|[31.3662121671876...|\n",
            "|[31.4474464941278...|\n",
            "|[31.5147378578019...|\n",
            "|[31.5257524169682...|\n",
            "|[31.5316044825729...|\n",
            "|[31.5741380228732...|\n",
            "|[31.6005122003032...|\n",
            "|[31.6253601348306...|\n",
            "|[31.7242025238451...|\n",
            "|[31.7366356860502...|\n",
            "|[31.8164283341993...|\n",
            "|[31.8209982016720...|\n",
            "|[31.8279790554652...|\n",
            "|[31.8293464559211...|\n",
            "|[31.9096268275227...|\n",
            "+--------------------+\n",
            "only showing top 20 rows\n",
            "\n"
          ]
        }
      ]
    },
    {
      "cell_type": "code",
      "source": [
        "predictions = lr_model.transform(unlabeled_data).show()"
      ],
      "metadata": {
        "colab": {
          "base_uri": "https://localhost:8080/"
        },
        "id": "yE8lyYU9YcsG",
        "outputId": "0fcaa451-d61a-434d-809f-d899e077e85e"
      },
      "execution_count": null,
      "outputs": [
        {
          "output_type": "stream",
          "name": "stdout",
          "text": [
            "+--------------------+------------------+\n",
            "|            features|        prediction|\n",
            "+--------------------+------------------+\n",
            "|[29.5324289670579...| 397.6180315108352|\n",
            "|[30.7377203726281...| 450.8035067315825|\n",
            "|[30.8794843441274...|493.81800318952014|\n",
            "|[31.1239743499119...|507.89694282369896|\n",
            "|[31.1695067987115...| 417.3843525656491|\n",
            "|[31.3662121671876...| 426.4209882748287|\n",
            "|[31.4474464941278...|425.78449506640504|\n",
            "|[31.5147378578019...|  495.327259264938|\n",
            "|[31.5257524169682...|449.10205017126486|\n",
            "|[31.5316044825729...|433.14759541618446|\n",
            "|[31.5741380228732...| 558.3659293793123|\n",
            "|[31.6005122003032...| 460.8235180000163|\n",
            "|[31.6253601348306...| 381.1287828629479|\n",
            "|[31.7242025238451...|509.32918916656354|\n",
            "|[31.7366356860502...| 493.7689676637399|\n",
            "|[31.8164283341993...| 518.9034386522651|\n",
            "|[31.8209982016720...|416.81565005889206|\n",
            "|[31.8279790554652...| 449.2654539480791|\n",
            "|[31.8293464559211...|383.94408967678146|\n",
            "|[31.9096268275227...| 551.2097296703253|\n",
            "+--------------------+------------------+\n",
            "only showing top 20 rows\n",
            "\n"
          ]
        }
      ]
    }
  ]
}
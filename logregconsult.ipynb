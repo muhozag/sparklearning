{
  "nbformat": 4,
  "nbformat_minor": 0,
  "metadata": {
    "colab": {
      "provenance": [],
      "authorship_tag": "ABX9TyN31/elmrFmmFXECbbWzy4D",
      "include_colab_link": true
    },
    "kernelspec": {
      "name": "python3",
      "display_name": "Python 3"
    },
    "language_info": {
      "name": "python"
    }
  },
  "cells": [
    {
      "cell_type": "markdown",
      "metadata": {
        "id": "view-in-github",
        "colab_type": "text"
      },
      "source": [
        "<a href=\"https://colab.research.google.com/github/muhozag/sparklearning/blob/logreg/logregconsult.ipynb\" target=\"_parent\"><img src=\"https://colab.research.google.com/assets/colab-badge.svg\" alt=\"Open In Colab\"/></a>"
      ]
    },
    {
      "cell_type": "markdown",
      "source": [
        "# **Predicting Church with Logistic Regression**"
      ],
      "metadata": {
        "id": "kukf69NZcLDw"
      }
    },
    {
      "cell_type": "code",
      "execution_count": 1,
      "metadata": {
        "id": "-oMrtYy3Ofcb"
      },
      "outputs": [],
      "source": [
        "from pyspark.sql import SparkSession\n"
      ]
    },
    {
      "cell_type": "code",
      "source": [
        "spark = SparkSession.builder.appName('logisticregconsult').getOrCreate()"
      ],
      "metadata": {
        "id": "qHAq1F5lVJ6J"
      },
      "execution_count": 2,
      "outputs": []
    },
    {
      "cell_type": "code",
      "source": [
        "data = spark.read.csv('customer_churn.csv', inferSchema=True, header=True)"
      ],
      "metadata": {
        "id": "WkUCNg-PXxPw"
      },
      "execution_count": 3,
      "outputs": []
    },
    {
      "cell_type": "code",
      "source": [
        "data.printSchema()"
      ],
      "metadata": {
        "colab": {
          "base_uri": "https://localhost:8080/"
        },
        "id": "iPSIrGrCX79f",
        "outputId": "561a6616-b2e6-4cc6-d056-840b4503802a"
      },
      "execution_count": 4,
      "outputs": [
        {
          "output_type": "stream",
          "name": "stdout",
          "text": [
            "root\n",
            " |-- Names: string (nullable = true)\n",
            " |-- Age: double (nullable = true)\n",
            " |-- Total_Purchase: double (nullable = true)\n",
            " |-- Account_Manager: integer (nullable = true)\n",
            " |-- Years: double (nullable = true)\n",
            " |-- Num_Sites: double (nullable = true)\n",
            " |-- Onboard_date: timestamp (nullable = true)\n",
            " |-- Location: string (nullable = true)\n",
            " |-- Company: string (nullable = true)\n",
            " |-- Churn: integer (nullable = true)\n",
            "\n"
          ]
        }
      ]
    },
    {
      "cell_type": "code",
      "source": [
        "data.describe().show()"
      ],
      "metadata": {
        "colab": {
          "base_uri": "https://localhost:8080/"
        },
        "id": "5EZsBDbMYBBz",
        "outputId": "a6bb857f-9b91-44f4-fbf6-ea1667c01642"
      },
      "execution_count": 5,
      "outputs": [
        {
          "output_type": "stream",
          "name": "stdout",
          "text": [
            "+-------+-------------+-----------------+-----------------+------------------+-----------------+------------------+--------------------+--------------------+-------------------+\n",
            "|summary|        Names|              Age|   Total_Purchase|   Account_Manager|            Years|         Num_Sites|            Location|             Company|              Churn|\n",
            "+-------+-------------+-----------------+-----------------+------------------+-----------------+------------------+--------------------+--------------------+-------------------+\n",
            "|  count|          900|              900|              900|               900|              900|               900|                 900|                 900|                900|\n",
            "|   mean|         NULL|41.81666666666667|10062.82403333334|0.4811111111111111| 5.27315555555555| 8.587777777777777|                NULL|                NULL|0.16666666666666666|\n",
            "| stddev|         NULL|6.127560416916251|2408.644531858096|0.4999208935073339|1.274449013194616|1.7648355920350969|                NULL|                NULL| 0.3728852122772358|\n",
            "|    min|   Aaron King|             22.0|            100.0|                 0|              1.0|               3.0|00103 Jeffrey Cre...|     Abbott-Thompson|                  0|\n",
            "|    max|Zachary Walsh|             65.0|         18026.01|                 1|             9.15|              14.0|Unit 9800 Box 287...|Zuniga, Clark and...|                  1|\n",
            "+-------+-------------+-----------------+-----------------+------------------+-----------------+------------------+--------------------+--------------------+-------------------+\n",
            "\n"
          ]
        }
      ]
    },
    {
      "cell_type": "code",
      "source": [
        "from pyspark.ml.feature import VectorAssembler"
      ],
      "metadata": {
        "id": "mIiEp5teYLbo"
      },
      "execution_count": 6,
      "outputs": []
    },
    {
      "cell_type": "code",
      "source": [
        "assembler = VectorAssembler(inputCols=['Age', 'Total_Purchase', 'Account_Manager',\n",
        "                                       'Years', 'Num_Sites'],\n",
        "                             outputCol='features')"
      ],
      "metadata": {
        "id": "0AEP6n_FYPX-"
      },
      "execution_count": 7,
      "outputs": []
    },
    {
      "cell_type": "code",
      "source": [
        "output = assembler.transform(data)"
      ],
      "metadata": {
        "id": "ssBzyg7JYjSs"
      },
      "execution_count": 8,
      "outputs": []
    },
    {
      "cell_type": "code",
      "source": [
        "final_data = output.select('features', 'churn')"
      ],
      "metadata": {
        "id": "b7OYBFliYmul"
      },
      "execution_count": 9,
      "outputs": []
    },
    {
      "cell_type": "code",
      "source": [
        "train_data, test_data = final_data.randomSplit([0.75, 0.25])"
      ],
      "metadata": {
        "id": "vD0nMagyY4mz"
      },
      "execution_count": 10,
      "outputs": []
    },
    {
      "cell_type": "code",
      "source": [
        "train_data.describe().show()"
      ],
      "metadata": {
        "colab": {
          "base_uri": "https://localhost:8080/"
        },
        "id": "kr32ZJRCZC7F",
        "outputId": "3c733985-0a6d-4700-e6b7-058e5dd7f983"
      },
      "execution_count": 11,
      "outputs": [
        {
          "output_type": "stream",
          "name": "stdout",
          "text": [
            "+-------+-------------------+\n",
            "|summary|              churn|\n",
            "+-------+-------------------+\n",
            "|  count|                685|\n",
            "|   mean| 0.1678832116788321|\n",
            "| stddev|0.37403566193483045|\n",
            "|    min|                  0|\n",
            "|    max|                  1|\n",
            "+-------+-------------------+\n",
            "\n"
          ]
        }
      ]
    },
    {
      "cell_type": "code",
      "source": [
        "test_data.describe().show()"
      ],
      "metadata": {
        "colab": {
          "base_uri": "https://localhost:8080/"
        },
        "id": "ZEwoaISNZIpo",
        "outputId": "16d21bfd-d067-43b2-8ce4-9d551f7825a2"
      },
      "execution_count": 12,
      "outputs": [
        {
          "output_type": "stream",
          "name": "stdout",
          "text": [
            "+-------+-------------------+\n",
            "|summary|              churn|\n",
            "+-------+-------------------+\n",
            "|  count|                215|\n",
            "|   mean|0.16279069767441862|\n",
            "| stddev|0.37003615371102505|\n",
            "|    min|                  0|\n",
            "|    max|                  1|\n",
            "+-------+-------------------+\n",
            "\n"
          ]
        }
      ]
    },
    {
      "cell_type": "code",
      "source": [
        "from pyspark.ml.classification import LogisticRegression"
      ],
      "metadata": {
        "id": "pOh_tCCZZNtN"
      },
      "execution_count": 13,
      "outputs": []
    },
    {
      "cell_type": "code",
      "source": [
        "lr_churn = LogisticRegression(labelCol='churn')"
      ],
      "metadata": {
        "id": "3Bql701nZUBq"
      },
      "execution_count": 14,
      "outputs": []
    },
    {
      "cell_type": "code",
      "source": [
        "fitted_church_model = lr_churn.fit(train_data)"
      ],
      "metadata": {
        "id": "4ZNfdVTaZYcf"
      },
      "execution_count": 15,
      "outputs": []
    },
    {
      "cell_type": "code",
      "source": [
        "fitted_church_model.summary.predictions.describe().show()"
      ],
      "metadata": {
        "colab": {
          "base_uri": "https://localhost:8080/"
        },
        "id": "UMtt7eB8Zk2w",
        "outputId": "6c6e5128-bbbd-41f5-e309-62cfbd640609"
      },
      "execution_count": 16,
      "outputs": [
        {
          "output_type": "stream",
          "name": "stdout",
          "text": [
            "+-------+-------------------+-------------------+\n",
            "|summary|              churn|         prediction|\n",
            "+-------+-------------------+-------------------+\n",
            "|  count|                685|                685|\n",
            "|   mean| 0.1678832116788321|0.13576642335766423|\n",
            "| stddev|0.37403566193483045| 0.3427906685401636|\n",
            "|    min|                0.0|                0.0|\n",
            "|    max|                1.0|                1.0|\n",
            "+-------+-------------------+-------------------+\n",
            "\n"
          ]
        }
      ]
    },
    {
      "cell_type": "code",
      "source": [
        "from pyspark.ml.evaluation import BinaryClassificationEvaluator\n",
        "pred_and_labels = fitted_church_model.evaluate(test_data)"
      ],
      "metadata": {
        "id": "COpz_M9MZumV"
      },
      "execution_count": 17,
      "outputs": []
    },
    {
      "cell_type": "code",
      "source": [
        "pred_and_labels.predictions.show()"
      ],
      "metadata": {
        "colab": {
          "base_uri": "https://localhost:8080/"
        },
        "id": "W3w5Gv5DZ07-",
        "outputId": "fa489b6e-063b-49a5-9da9-deb5231622a5"
      },
      "execution_count": 18,
      "outputs": [
        {
          "output_type": "stream",
          "name": "stdout",
          "text": [
            "+--------------------+-----+--------------------+--------------------+----------+\n",
            "|            features|churn|       rawPrediction|         probability|prediction|\n",
            "+--------------------+-----+--------------------+--------------------+----------+\n",
            "|[26.0,8787.39,1.0...|    1|[0.57044902450284...|[0.63886677875243...|       0.0|\n",
            "|[27.0,8628.8,1.0,...|    0|[5.59428674023282...|[0.99629472905258...|       0.0|\n",
            "|[28.0,9090.43,1.0...|    0|[1.50856265048773...|[0.81884809402997...|       0.0|\n",
            "|[28.0,11128.95,1....|    0|[4.19570673664853...|[0.98516334623885...|       0.0|\n",
            "|[28.0,11245.38,0....|    0|[3.83331836849124...|[0.97882057931321...|       0.0|\n",
            "|[29.0,11274.46,1....|    0|[4.50854744841820...|[0.98910554874760...|       0.0|\n",
            "|[29.0,13255.05,1....|    0|[4.10374852146153...|[0.98375750577858...|       0.0|\n",
            "|[30.0,8874.83,0.0...|    0|[3.29043119397538...|[0.96409908160842...|       0.0|\n",
            "|[30.0,11575.37,1....|    1|[3.99365160657536...|[0.98190131643696...|       0.0|\n",
            "|[31.0,5387.75,0.0...|    0|[2.80013957432524...|[0.94268336596854...|       0.0|\n",
            "|[31.0,7073.61,0.0...|    0|[3.27781616299977...|[0.96365988410887...|       0.0|\n",
            "|[31.0,10058.87,1....|    0|[4.57584387203577...|[0.98980735419802...|       0.0|\n",
            "|[31.0,10182.6,1.0...|    0|[4.84290050508507...|[0.99217752079186...|       0.0|\n",
            "|[31.0,11743.24,0....|    0|[6.90983590548039...|[0.99900307331810...|       0.0|\n",
            "|[32.0,8617.98,1.0...|    1|[1.06536282147577...|[0.74371405289985...|       0.0|\n",
            "|[32.0,9472.72,1.0...|    0|[3.86668052997885...|[0.97950126857484...|       0.0|\n",
            "|[32.0,10716.75,0....|    0|[4.53001324832058...|[0.98933444709981...|       0.0|\n",
            "|[32.0,11715.72,0....|    0|[3.41823559518453...|[0.96826960756323...|       0.0|\n",
            "|[32.0,12479.72,0....|    0|[4.64348043420471...|[0.99046759812699...|       0.0|\n",
            "|[32.0,12547.91,0....|    0|[0.42284076783463...|[0.60416282042543...|       0.0|\n",
            "+--------------------+-----+--------------------+--------------------+----------+\n",
            "only showing top 20 rows\n",
            "\n"
          ]
        }
      ]
    },
    {
      "cell_type": "code",
      "source": [
        "churn_eval = BinaryClassificationEvaluator(rawPredictionCol='prediction', labelCol='churn')"
      ],
      "metadata": {
        "id": "NS0fjR54aE8v"
      },
      "execution_count": 19,
      "outputs": []
    },
    {
      "cell_type": "code",
      "source": [
        "AUC = churn_eval.evaluate(pred_and_labels.predictions)"
      ],
      "metadata": {
        "id": "u6BKdL04aOdF"
      },
      "execution_count": 20,
      "outputs": []
    },
    {
      "cell_type": "code",
      "source": [
        "AUC"
      ],
      "metadata": {
        "colab": {
          "base_uri": "https://localhost:8080/"
        },
        "id": "3MfKM-9xaT_i",
        "outputId": "a0548430-0d36-43d7-f855-5bf93043ae27"
      },
      "execution_count": 21,
      "outputs": [
        {
          "output_type": "execute_result",
          "data": {
            "text/plain": [
              "0.7317460317460317"
            ]
          },
          "metadata": {},
          "execution_count": 21
        }
      ]
    },
    {
      "cell_type": "code",
      "source": [
        "final_lr_model = lr_churn.fit(final_data)"
      ],
      "metadata": {
        "id": "IR6DcqvzaaP5"
      },
      "execution_count": 25,
      "outputs": []
    },
    {
      "cell_type": "code",
      "source": [
        "new_customers = spark.read.csv('new_customers.csv', inferSchema=True, header=True)"
      ],
      "metadata": {
        "id": "8EZyK78maxMh"
      },
      "execution_count": 26,
      "outputs": []
    },
    {
      "cell_type": "code",
      "source": [
        "new_customers.printSchema()"
      ],
      "metadata": {
        "colab": {
          "base_uri": "https://localhost:8080/"
        },
        "id": "xhNFTHynbAOV",
        "outputId": "e31fe139-2fc9-4624-bb3f-60d16287b095"
      },
      "execution_count": 27,
      "outputs": [
        {
          "output_type": "stream",
          "name": "stdout",
          "text": [
            "root\n",
            " |-- Names: string (nullable = true)\n",
            " |-- Age: double (nullable = true)\n",
            " |-- Total_Purchase: double (nullable = true)\n",
            " |-- Account_Manager: integer (nullable = true)\n",
            " |-- Years: double (nullable = true)\n",
            " |-- Num_Sites: double (nullable = true)\n",
            " |-- Onboard_date: timestamp (nullable = true)\n",
            " |-- Location: string (nullable = true)\n",
            " |-- Company: string (nullable = true)\n",
            "\n"
          ]
        }
      ]
    },
    {
      "cell_type": "code",
      "source": [
        "test_new_customers = assembler.transform(new_customers)"
      ],
      "metadata": {
        "id": "d234SDKMbE23"
      },
      "execution_count": 28,
      "outputs": []
    },
    {
      "cell_type": "code",
      "source": [
        "test_new_customers.printSchema()"
      ],
      "metadata": {
        "colab": {
          "base_uri": "https://localhost:8080/"
        },
        "id": "52y_fwnJbIax",
        "outputId": "edc5ae5b-ab01-4981-ef3a-74360252f288"
      },
      "execution_count": 29,
      "outputs": [
        {
          "output_type": "stream",
          "name": "stdout",
          "text": [
            "root\n",
            " |-- Names: string (nullable = true)\n",
            " |-- Age: double (nullable = true)\n",
            " |-- Total_Purchase: double (nullable = true)\n",
            " |-- Account_Manager: integer (nullable = true)\n",
            " |-- Years: double (nullable = true)\n",
            " |-- Num_Sites: double (nullable = true)\n",
            " |-- Onboard_date: timestamp (nullable = true)\n",
            " |-- Location: string (nullable = true)\n",
            " |-- Company: string (nullable = true)\n",
            " |-- features: vector (nullable = true)\n",
            "\n"
          ]
        }
      ]
    },
    {
      "cell_type": "code",
      "source": [
        "final_results = final_lr_model.transform(test_new_customers)"
      ],
      "metadata": {
        "id": "BZiK591zbL5v"
      },
      "execution_count": 30,
      "outputs": []
    },
    {
      "cell_type": "code",
      "source": [
        "final_results.select('Company', 'prediction').show()"
      ],
      "metadata": {
        "colab": {
          "base_uri": "https://localhost:8080/"
        },
        "id": "64rpo5v_bVHJ",
        "outputId": "3424f622-5db6-4d9a-e561-4547755b2ae2"
      },
      "execution_count": 31,
      "outputs": [
        {
          "output_type": "stream",
          "name": "stdout",
          "text": [
            "+----------------+----------+\n",
            "|         Company|prediction|\n",
            "+----------------+----------+\n",
            "|        King Ltd|       0.0|\n",
            "|   Cannon-Benson|       1.0|\n",
            "|Barron-Robertson|       1.0|\n",
            "|   Sexton-Golden|       1.0|\n",
            "|        Wood LLC|       0.0|\n",
            "|   Parks-Robbins|       1.0|\n",
            "+----------------+----------+\n",
            "\n"
          ]
        }
      ]
    }
  ]
}
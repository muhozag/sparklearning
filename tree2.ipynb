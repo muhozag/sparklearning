{
  "nbformat": 4,
  "nbformat_minor": 0,
  "metadata": {
    "colab": {
      "provenance": [],
      "authorship_tag": "ABX9TyOFdLGM1y5xkUurUEvr3AhT",
      "include_colab_link": true
    },
    "kernelspec": {
      "name": "python3",
      "display_name": "Python 3"
    },
    "language_info": {
      "name": "python"
    }
  },
  "cells": [
    {
      "cell_type": "markdown",
      "metadata": {
        "id": "view-in-github",
        "colab_type": "text"
      },
      "source": [
        "<a href=\"https://colab.research.google.com/github/muhozag/sparklearning/blob/trees/tree2.ipynb\" target=\"_parent\"><img src=\"https://colab.research.google.com/assets/colab-badge.svg\" alt=\"Open In Colab\"/></a>"
      ]
    },
    {
      "cell_type": "markdown",
      "source": [
        "# **Tree Algorithms Example: Public vs. Private University Prediction**"
      ],
      "metadata": {
        "id": "vhRlLyM9QJOW"
      }
    },
    {
      "cell_type": "code",
      "source": [
        "from pyspark.sql import SparkSession\n",
        "spark = SparkSession.builder.appName('tree').getOrCreate()"
      ],
      "metadata": {
        "id": "nKLxOpnlQePy"
      },
      "execution_count": 1,
      "outputs": []
    },
    {
      "cell_type": "code",
      "source": [
        "data = spark.read.csv('College.csv',inferSchema=True,header=True)"
      ],
      "metadata": {
        "id": "jPyjog5KQqVq"
      },
      "execution_count": 2,
      "outputs": []
    },
    {
      "cell_type": "code",
      "source": [
        "data.printSchema()"
      ],
      "metadata": {
        "colab": {
          "base_uri": "https://localhost:8080/"
        },
        "id": "Q7uTEpsrQx7g",
        "outputId": "dfc5598d-392d-4e5f-9c4f-aabfd68d25e5"
      },
      "execution_count": 3,
      "outputs": [
        {
          "output_type": "stream",
          "name": "stdout",
          "text": [
            "root\n",
            " |-- School: string (nullable = true)\n",
            " |-- Private: string (nullable = true)\n",
            " |-- Apps: integer (nullable = true)\n",
            " |-- Accept: integer (nullable = true)\n",
            " |-- Enroll: integer (nullable = true)\n",
            " |-- Top10perc: integer (nullable = true)\n",
            " |-- Top25perc: integer (nullable = true)\n",
            " |-- F_Undergrad: integer (nullable = true)\n",
            " |-- P_Undergrad: integer (nullable = true)\n",
            " |-- Outstate: integer (nullable = true)\n",
            " |-- Room_Board: integer (nullable = true)\n",
            " |-- Books: integer (nullable = true)\n",
            " |-- Personal: integer (nullable = true)\n",
            " |-- PhD: integer (nullable = true)\n",
            " |-- Terminal: integer (nullable = true)\n",
            " |-- S_F_Ratio: double (nullable = true)\n",
            " |-- perc_alumni: integer (nullable = true)\n",
            " |-- Expend: integer (nullable = true)\n",
            " |-- Grad_Rate: integer (nullable = true)\n",
            "\n"
          ]
        }
      ]
    },
    {
      "cell_type": "code",
      "source": [
        "data.head(1)"
      ],
      "metadata": {
        "colab": {
          "base_uri": "https://localhost:8080/"
        },
        "id": "fUTExCdCQ1oB",
        "outputId": "2e816847-0d9b-46c6-90af-80d6f16af044"
      },
      "execution_count": 4,
      "outputs": [
        {
          "output_type": "execute_result",
          "data": {
            "text/plain": [
              "[Row(School='Abilene Christian University', Private='Yes', Apps=1660, Accept=1232, Enroll=721, Top10perc=23, Top25perc=52, F_Undergrad=2885, P_Undergrad=537, Outstate=7440, Room_Board=3300, Books=450, Personal=2200, PhD=70, Terminal=78, S_F_Ratio=18.1, perc_alumni=12, Expend=7041, Grad_Rate=60)]"
            ]
          },
          "metadata": {},
          "execution_count": 4
        }
      ]
    },
    {
      "cell_type": "code",
      "source": [
        "from pyspark.ml.feature import VectorAssembler"
      ],
      "metadata": {
        "id": "CCYVkoSFRBjU"
      },
      "execution_count": 5,
      "outputs": []
    },
    {
      "cell_type": "code",
      "source": [
        "data.columns"
      ],
      "metadata": {
        "colab": {
          "base_uri": "https://localhost:8080/"
        },
        "id": "qSDj7eH1RFoV",
        "outputId": "26df4429-6bee-484e-9421-ccb7a5ba7233"
      },
      "execution_count": 6,
      "outputs": [
        {
          "output_type": "execute_result",
          "data": {
            "text/plain": [
              "['School',\n",
              " 'Private',\n",
              " 'Apps',\n",
              " 'Accept',\n",
              " 'Enroll',\n",
              " 'Top10perc',\n",
              " 'Top25perc',\n",
              " 'F_Undergrad',\n",
              " 'P_Undergrad',\n",
              " 'Outstate',\n",
              " 'Room_Board',\n",
              " 'Books',\n",
              " 'Personal',\n",
              " 'PhD',\n",
              " 'Terminal',\n",
              " 'S_F_Ratio',\n",
              " 'perc_alumni',\n",
              " 'Expend',\n",
              " 'Grad_Rate']"
            ]
          },
          "metadata": {},
          "execution_count": 6
        }
      ]
    },
    {
      "cell_type": "code",
      "source": [
        "assembler = VectorAssembler(\n",
        "    inputCols=['Apps',\n",
        " 'Accept',\n",
        " 'Enroll',\n",
        " 'Top10perc',\n",
        " 'Top25perc',\n",
        " 'F_Undergrad',\n",
        " 'P_Undergrad',\n",
        " 'Outstate',\n",
        " 'Room_Board',\n",
        " 'Books',\n",
        " 'Personal',\n",
        " 'PhD',\n",
        " 'Terminal',\n",
        " 'S_F_Ratio',\n",
        " 'perc_alumni',\n",
        " 'Expend',\n",
        " 'Grad_Rate'], outputCol='features'\n",
        ")"
      ],
      "metadata": {
        "id": "AnYHt3UsReih"
      },
      "execution_count": 7,
      "outputs": []
    },
    {
      "cell_type": "code",
      "source": [
        "output = assembler.transform(data)"
      ],
      "metadata": {
        "id": "Cuz__8plSCIO"
      },
      "execution_count": 8,
      "outputs": []
    },
    {
      "cell_type": "code",
      "source": [
        "from pyspark.ml.feature import StringIndexer"
      ],
      "metadata": {
        "id": "YnxVxEiHSGry"
      },
      "execution_count": 10,
      "outputs": []
    },
    {
      "cell_type": "code",
      "source": [
        "indexer = StringIndexer(inputCol='Private', outputCol='PrivateIndex')"
      ],
      "metadata": {
        "id": "u3ecDGI-SOYF"
      },
      "execution_count": 11,
      "outputs": []
    },
    {
      "cell_type": "code",
      "source": [
        "output_fixed = indexer.fit(output).transform(output)"
      ],
      "metadata": {
        "id": "H2uOobQJSTut"
      },
      "execution_count": 12,
      "outputs": []
    },
    {
      "cell_type": "code",
      "source": [
        "output_fixed.printSchema()"
      ],
      "metadata": {
        "colab": {
          "base_uri": "https://localhost:8080/"
        },
        "id": "HOpaBlN-SYMB",
        "outputId": "4f939c77-97f0-4a0f-ea2e-629518267226"
      },
      "execution_count": 13,
      "outputs": [
        {
          "output_type": "stream",
          "name": "stdout",
          "text": [
            "root\n",
            " |-- School: string (nullable = true)\n",
            " |-- Private: string (nullable = true)\n",
            " |-- Apps: integer (nullable = true)\n",
            " |-- Accept: integer (nullable = true)\n",
            " |-- Enroll: integer (nullable = true)\n",
            " |-- Top10perc: integer (nullable = true)\n",
            " |-- Top25perc: integer (nullable = true)\n",
            " |-- F_Undergrad: integer (nullable = true)\n",
            " |-- P_Undergrad: integer (nullable = true)\n",
            " |-- Outstate: integer (nullable = true)\n",
            " |-- Room_Board: integer (nullable = true)\n",
            " |-- Books: integer (nullable = true)\n",
            " |-- Personal: integer (nullable = true)\n",
            " |-- PhD: integer (nullable = true)\n",
            " |-- Terminal: integer (nullable = true)\n",
            " |-- S_F_Ratio: double (nullable = true)\n",
            " |-- perc_alumni: integer (nullable = true)\n",
            " |-- Expend: integer (nullable = true)\n",
            " |-- Grad_Rate: integer (nullable = true)\n",
            " |-- features: vector (nullable = true)\n",
            " |-- PrivateIndex: double (nullable = false)\n",
            "\n"
          ]
        }
      ]
    },
    {
      "cell_type": "code",
      "source": [
        "\n",
        "final_data = output_fixed.select('features', 'PrivateIndex')"
      ],
      "metadata": {
        "id": "6El9Bak4SkAR"
      },
      "execution_count": 14,
      "outputs": []
    },
    {
      "cell_type": "code",
      "source": [
        "train_data,test_data = final_data.randomSplit([0.75,0.25])"
      ],
      "metadata": {
        "id": "njQpf-y5Sruc"
      },
      "execution_count": 15,
      "outputs": []
    },
    {
      "cell_type": "code",
      "source": [
        "from pyspark.ml.classification import (DecisionTreeClassifier,\n",
        "                                       GBTClassifier, RandomForestClassifier)"
      ],
      "metadata": {
        "id": "4EBxpyCpS0g2"
      },
      "execution_count": 16,
      "outputs": []
    },
    {
      "cell_type": "code",
      "source": [
        "dtc = DecisionTreeClassifier(labelCol='PrivateIndex', featuresCol='features')\n",
        "rfc = RandomForestClassifier(numTrees=200, labelCol='PrivateIndex', featuresCol='features')\n",
        "gbt = GBTClassifier(labelCol='PrivateIndex', featuresCol='features')"
      ],
      "metadata": {
        "id": "sq93sZunS9bi"
      },
      "execution_count": 52,
      "outputs": []
    },
    {
      "cell_type": "code",
      "source": [
        "from pyspark.ml import Pipeline"
      ],
      "metadata": {
        "id": "bJcEKTWMTX7e"
      },
      "execution_count": 53,
      "outputs": []
    },
    {
      "cell_type": "code",
      "source": [
        "dtc_model = dtc.fit(train_data)\n",
        "rfc_model = rfc.fit(train_data)\n",
        "gbt_model = gbt.fit(train_data)"
      ],
      "metadata": {
        "id": "4ii5u33dTatV"
      },
      "execution_count": 54,
      "outputs": []
    },
    {
      "cell_type": "code",
      "source": [
        "dtc_preds = dtc_model.transform(test_data)\n",
        "rfc_preds = rfc_model.transform(test_data)\n",
        "gbt_preds = gbt_model.transform(test_data)"
      ],
      "metadata": {
        "id": "6qejXTeoUA4J"
      },
      "execution_count": 55,
      "outputs": []
    },
    {
      "cell_type": "code",
      "source": [
        "dtc_preds.show()"
      ],
      "metadata": {
        "colab": {
          "base_uri": "https://localhost:8080/"
        },
        "id": "6oudmzV-UFhH",
        "outputId": "2ff4fb1c-622b-498d-8a24-93c543b68f56"
      },
      "execution_count": 56,
      "outputs": [
        {
          "output_type": "stream",
          "name": "stdout",
          "text": [
            "+--------------------+------------+-------------+--------------------+----------+\n",
            "|            features|PrivateIndex|rawPrediction|         probability|prediction|\n",
            "+--------------------+------------+-------------+--------------------+----------+\n",
            "|[191.0,165.0,63.0...|         0.0|  [313.0,0.0]|           [1.0,0.0]|       0.0|\n",
            "|[232.0,182.0,99.0...|         0.0|    [4.0,6.0]|           [0.4,0.6]|       1.0|\n",
            "|[235.0,217.0,121....|         0.0|   [18.0,0.0]|           [1.0,0.0]|       0.0|\n",
            "|[244.0,198.0,82.0...|         0.0|  [313.0,0.0]|           [1.0,0.0]|       0.0|\n",
            "|[280.0,143.0,79.0...|         0.0|    [6.0,0.0]|           [1.0,0.0]|       0.0|\n",
            "|[285.0,280.0,208....|         1.0|   [28.0,1.0]|[0.96551724137931...|       0.0|\n",
            "|[346.0,274.0,146....|         0.0|  [313.0,0.0]|           [1.0,0.0]|       0.0|\n",
            "|[368.0,317.0,159....|         0.0|  [313.0,0.0]|           [1.0,0.0]|       0.0|\n",
            "|[427.0,385.0,143....|         0.0|  [313.0,0.0]|           [1.0,0.0]|       0.0|\n",
            "|[434.0,321.0,141....|         0.0|  [313.0,0.0]|           [1.0,0.0]|       0.0|\n",
            "|[441.0,369.0,172....|         1.0|   [28.0,1.0]|[0.96551724137931...|       0.0|\n",
            "|[443.0,330.0,151....|         0.0|  [313.0,0.0]|           [1.0,0.0]|       0.0|\n",
            "|[444.0,359.0,122....|         0.0|  [313.0,0.0]|           [1.0,0.0]|       0.0|\n",
            "|[450.0,430.0,125....|         0.0|  [313.0,0.0]|           [1.0,0.0]|       0.0|\n",
            "|[452.0,331.0,269....|         0.0|   [28.0,1.0]|[0.96551724137931...|       0.0|\n",
            "|[458.0,369.0,165....|         0.0|  [313.0,0.0]|           [1.0,0.0]|       0.0|\n",
            "|[460.0,340.0,167....|         0.0|  [313.0,0.0]|           [1.0,0.0]|       0.0|\n",
            "|[486.0,440.0,227....|         0.0|  [313.0,0.0]|           [1.0,0.0]|       0.0|\n",
            "|[497.0,452.0,231....|         0.0|   [10.0,0.0]|           [1.0,0.0]|       0.0|\n",
            "|[500.0,336.0,156....|         0.0|   [28.0,1.0]|[0.96551724137931...|       0.0|\n",
            "+--------------------+------------+-------------+--------------------+----------+\n",
            "only showing top 20 rows\n",
            "\n"
          ]
        }
      ]
    },
    {
      "cell_type": "code",
      "source": [
        "rfc_preds.show()"
      ],
      "metadata": {
        "colab": {
          "base_uri": "https://localhost:8080/"
        },
        "id": "jsZapQ89UJqc",
        "outputId": "9dfd298d-4563-4456-8baa-a876564d82c8"
      },
      "execution_count": 57,
      "outputs": [
        {
          "output_type": "stream",
          "name": "stdout",
          "text": [
            "+--------------------+------------+--------------------+--------------------+----------+\n",
            "|            features|PrivateIndex|       rawPrediction|         probability|prediction|\n",
            "+--------------------+------------+--------------------+--------------------+----------+\n",
            "|[191.0,165.0,63.0...|         0.0|[179.457123079618...|[0.89728561539809...|       0.0|\n",
            "|[232.0,182.0,99.0...|         0.0|[149.006130346732...|[0.74503065173366...|       0.0|\n",
            "|[235.0,217.0,121....|         0.0|[196.590170493853...|[0.98295085246926...|       0.0|\n",
            "|[244.0,198.0,82.0...|         0.0|[193.679373661863...|[0.96839686830931...|       0.0|\n",
            "|[280.0,143.0,79.0...|         0.0|[135.772226179138...|[0.67886113089569...|       0.0|\n",
            "|[285.0,280.0,208....|         1.0|[104.389638473699...|[0.52194819236849...|       0.0|\n",
            "|[346.0,274.0,146....|         0.0|[191.412278380512...|[0.95706139190256...|       0.0|\n",
            "|[368.0,317.0,159....|         0.0|[195.321094399774...|[0.97660547199887...|       0.0|\n",
            "|[427.0,385.0,143....|         0.0|[198.386375146636...|[0.99193187573318...|       0.0|\n",
            "|[434.0,321.0,141....|         0.0|[198.373663282229...|[0.99186831641114...|       0.0|\n",
            "|[441.0,369.0,172....|         1.0|[168.176561007521...|[0.84088280503760...|       0.0|\n",
            "|[443.0,330.0,151....|         0.0|[190.592049252487...|[0.95296024626243...|       0.0|\n",
            "|[444.0,359.0,122....|         0.0|[198.259032264710...|[0.99129516132355...|       0.0|\n",
            "|[450.0,430.0,125....|         0.0|[197.826920225467...|[0.98913460112733...|       0.0|\n",
            "|[452.0,331.0,269....|         0.0|[148.250280413411...|[0.74125140206705...|       0.0|\n",
            "|[458.0,369.0,165....|         0.0|[198.064377077693...|[0.99032188538846...|       0.0|\n",
            "|[460.0,340.0,167....|         0.0|[198.321361313629...|[0.99160680656814...|       0.0|\n",
            "|[486.0,440.0,227....|         0.0|[198.258045617459...|[0.99129022808729...|       0.0|\n",
            "|[497.0,452.0,231....|         0.0|[187.931377911604...|[0.93965688955802...|       0.0|\n",
            "|[500.0,336.0,156....|         0.0|[169.584256795810...|[0.84792128397905...|       0.0|\n",
            "+--------------------+------------+--------------------+--------------------+----------+\n",
            "only showing top 20 rows\n",
            "\n"
          ]
        }
      ]
    },
    {
      "cell_type": "code",
      "source": [
        "gbt_preds.show()"
      ],
      "metadata": {
        "colab": {
          "base_uri": "https://localhost:8080/"
        },
        "id": "5hVtnuyVUN54",
        "outputId": "35326c95-bbba-42b2-8372-3f4ffa477d94"
      },
      "execution_count": 58,
      "outputs": [
        {
          "output_type": "stream",
          "name": "stdout",
          "text": [
            "+--------------------+------------+--------------------+--------------------+----------+\n",
            "|            features|PrivateIndex|       rawPrediction|         probability|prediction|\n",
            "+--------------------+------------+--------------------+--------------------+----------+\n",
            "|[191.0,165.0,63.0...|         0.0|[1.54296120893688...|[0.95630830919150...|       0.0|\n",
            "|[232.0,182.0,99.0...|         0.0|[-0.5753938065146...|[0.24034525172021...|       1.0|\n",
            "|[235.0,217.0,121....|         0.0|[1.53936824231755...|[0.95600707485356...|       0.0|\n",
            "|[244.0,198.0,82.0...|         0.0|[1.54030021764277...|[0.95608540144862...|       0.0|\n",
            "|[280.0,143.0,79.0...|         0.0|[0.91620658435534...|[0.86204895299728...|       0.0|\n",
            "|[285.0,280.0,208....|         1.0|[0.79313394535674...|[0.83009037335726...|       0.0|\n",
            "|[346.0,274.0,146....|         0.0|[1.54280453455569...|[0.95629521475354...|       0.0|\n",
            "|[368.0,317.0,159....|         0.0|[1.54369909996036...|[0.95636992988255...|       0.0|\n",
            "|[427.0,385.0,143....|         0.0|[1.54030021764277...|[0.95608540144862...|       0.0|\n",
            "|[434.0,321.0,141....|         0.0|[1.54030021764277...|[0.95608540144862...|       0.0|\n",
            "|[441.0,369.0,172....|         1.0|[1.42352917491115...|[0.94516642580568...|       0.0|\n",
            "|[443.0,330.0,151....|         0.0|[1.54296120893688...|[0.95630830919150...|       0.0|\n",
            "|[444.0,359.0,122....|         0.0|[1.54030021764277...|[0.95608540144862...|       0.0|\n",
            "|[450.0,430.0,125....|         0.0|[1.54030021764277...|[0.95608540144862...|       0.0|\n",
            "|[452.0,331.0,269....|         0.0|[1.02142638254350...|[0.88522343585684...|       0.0|\n",
            "|[458.0,369.0,165....|         0.0|[1.54280453455569...|[0.95629521475354...|       0.0|\n",
            "|[460.0,340.0,167....|         0.0|[1.54030021764277...|[0.95608540144862...|       0.0|\n",
            "|[486.0,440.0,227....|         0.0|[1.54369909996036...|[0.95636992988255...|       0.0|\n",
            "|[497.0,452.0,231....|         0.0|[1.51847348152027...|[0.95421563246308...|       0.0|\n",
            "|[500.0,336.0,156....|         0.0|[1.66068776904516...|[0.96515488171274...|       0.0|\n",
            "+--------------------+------------+--------------------+--------------------+----------+\n",
            "only showing top 20 rows\n",
            "\n"
          ]
        }
      ]
    },
    {
      "cell_type": "code",
      "source": [
        "from pyspark.ml.evaluation import BinaryClassificationEvaluator"
      ],
      "metadata": {
        "id": "zq7s5OE4UT1S"
      },
      "execution_count": 59,
      "outputs": []
    },
    {
      "cell_type": "code",
      "source": [
        "my_binary_eval = BinaryClassificationEvaluator(labelCol='PrivateIndex')"
      ],
      "metadata": {
        "id": "6mp4bJbtUZbA"
      },
      "execution_count": 60,
      "outputs": []
    },
    {
      "cell_type": "code",
      "source": [
        "my_binary_eval.evaluate(dtc_preds)"
      ],
      "metadata": {
        "colab": {
          "base_uri": "https://localhost:8080/"
        },
        "id": "fy8t_mTEUc9z",
        "outputId": "ef1bf23b-1db7-4826-c371-d2f4e5db039e"
      },
      "execution_count": 61,
      "outputs": [
        {
          "output_type": "execute_result",
          "data": {
            "text/plain": [
              "0.9126465884861408"
            ]
          },
          "metadata": {},
          "execution_count": 61
        }
      ]
    },
    {
      "cell_type": "code",
      "source": [
        "my_binary_eval.evaluate(rfc_preds)"
      ],
      "metadata": {
        "colab": {
          "base_uri": "https://localhost:8080/"
        },
        "id": "QBEq2HijUjgw",
        "outputId": "53c7f6c5-c062-448f-f82b-bb25ecc29e2f"
      },
      "execution_count": 62,
      "outputs": [
        {
          "output_type": "execute_result",
          "data": {
            "text/plain": [
              "0.9736140724946692"
            ]
          },
          "metadata": {},
          "execution_count": 62
        }
      ]
    },
    {
      "cell_type": "code",
      "source": [
        "my_binary_eval.evaluate(gbt_preds)"
      ],
      "metadata": {
        "colab": {
          "base_uri": "https://localhost:8080/"
        },
        "id": "aoBJl5YiUmwm",
        "outputId": "b5902531-0416-4387-c2c8-78c8a435fbb3"
      },
      "execution_count": 63,
      "outputs": [
        {
          "output_type": "execute_result",
          "data": {
            "text/plain": [
              "0.9268390191897652"
            ]
          },
          "metadata": {},
          "execution_count": 63
        }
      ]
    },
    {
      "cell_type": "code",
      "source": [
        "from pyspark.ml.evaluation import MulticlassClassificationEvaluator"
      ],
      "metadata": {
        "id": "OJVTHMYaXy_e"
      },
      "execution_count": 64,
      "outputs": []
    },
    {
      "cell_type": "code",
      "source": [
        "acc_eval = MulticlassClassificationEvaluator(labelCol='PrivateIndex',\n",
        "                                             metricName='accuracy')"
      ],
      "metadata": {
        "id": "niHTETXAX17h"
      },
      "execution_count": 65,
      "outputs": []
    },
    {
      "cell_type": "code",
      "source": [
        "acc_eval.evaluate(dtc_preds)"
      ],
      "metadata": {
        "colab": {
          "base_uri": "https://localhost:8080/"
        },
        "id": "SFRNdT4NX7cg",
        "outputId": "95f4f89c-89b5-41f1-dc7f-00c599b3fa8e"
      },
      "execution_count": 66,
      "outputs": [
        {
          "output_type": "execute_result",
          "data": {
            "text/plain": [
              "0.8947368421052632"
            ]
          },
          "metadata": {},
          "execution_count": 66
        }
      ]
    },
    {
      "cell_type": "code",
      "source": [
        "acc_eval.evaluate(rfc_preds)"
      ],
      "metadata": {
        "colab": {
          "base_uri": "https://localhost:8080/"
        },
        "id": "sXkPI7aQYEWc",
        "outputId": "630a6419-c1bb-4927-849a-e39439887833"
      },
      "execution_count": 68,
      "outputs": [
        {
          "output_type": "execute_result",
          "data": {
            "text/plain": [
              "0.9473684210526315"
            ]
          },
          "metadata": {},
          "execution_count": 68
        }
      ]
    },
    {
      "cell_type": "code",
      "source": [
        "acc_eval.evaluate(gbt_preds)"
      ],
      "metadata": {
        "colab": {
          "base_uri": "https://localhost:8080/"
        },
        "id": "owmT4oOdYPiW",
        "outputId": "17d2a21f-9d86-49a8-dbe2-79d0954662b1"
      },
      "execution_count": 70,
      "outputs": [
        {
          "output_type": "execute_result",
          "data": {
            "text/plain": [
              "0.8947368421052632"
            ]
          },
          "metadata": {},
          "execution_count": 70
        }
      ]
    }
  ]
}
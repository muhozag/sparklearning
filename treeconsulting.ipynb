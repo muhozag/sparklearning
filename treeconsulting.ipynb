{
  "nbformat": 4,
  "nbformat_minor": 0,
  "metadata": {
    "colab": {
      "provenance": [],
      "authorship_tag": "ABX9TyMPQHStU4N3Jxsrc5CCMr0k",
      "include_colab_link": true
    },
    "kernelspec": {
      "name": "python3",
      "display_name": "Python 3"
    },
    "language_info": {
      "name": "python"
    }
  },
  "cells": [
    {
      "cell_type": "markdown",
      "metadata": {
        "id": "view-in-github",
        "colab_type": "text"
      },
      "source": [
        "<a href=\"https://colab.research.google.com/github/muhozag/sparklearning/blob/trees/treeconsulting.ipynb\" target=\"_parent\"><img src=\"https://colab.research.google.com/assets/colab-badge.svg\" alt=\"Open In Colab\"/></a>"
      ]
    },
    {
      "cell_type": "markdown",
      "source": [
        "# **Tree Methods Consulting Example: Dog Food Spoil**"
      ],
      "metadata": {
        "id": "8IqXwVVTZYH0"
      }
    },
    {
      "cell_type": "code",
      "execution_count": 1,
      "metadata": {
        "id": "eGhgOlxTZQRq"
      },
      "outputs": [],
      "source": [
        "from pyspark.sql import SparkSession\n",
        "spark = SparkSession.builder.appName('dogfood').getOrCreate()"
      ]
    },
    {
      "cell_type": "code",
      "source": [
        "data = spark.read.csv('dog_food.csv',inferSchema=True,header=True)"
      ],
      "metadata": {
        "id": "IuQ4ApFVafQF"
      },
      "execution_count": 2,
      "outputs": []
    },
    {
      "cell_type": "code",
      "source": [
        "data.columns"
      ],
      "metadata": {
        "colab": {
          "base_uri": "https://localhost:8080/"
        },
        "id": "n8IyVra9ajcy",
        "outputId": "48373f3c-0716-4f66-d85b-16a9a4db1fe1"
      },
      "execution_count": 3,
      "outputs": [
        {
          "output_type": "execute_result",
          "data": {
            "text/plain": [
              "['A', 'B', 'C', 'D', 'Spoiled']"
            ]
          },
          "metadata": {},
          "execution_count": 3
        }
      ]
    },
    {
      "cell_type": "code",
      "source": [
        "data.head(1)"
      ],
      "metadata": {
        "colab": {
          "base_uri": "https://localhost:8080/"
        },
        "id": "rzeigFDNasVQ",
        "outputId": "19368f70-53b4-437c-e748-7070a654c218"
      },
      "execution_count": 4,
      "outputs": [
        {
          "output_type": "execute_result",
          "data": {
            "text/plain": [
              "[Row(A=4, B=2, C=12.0, D=3, Spoiled=1.0)]"
            ]
          },
          "metadata": {},
          "execution_count": 4
        }
      ]
    },
    {
      "cell_type": "code",
      "source": [
        "from pyspark.ml.feature import VectorAssembler"
      ],
      "metadata": {
        "id": "1xNUBvhNaxAX"
      },
      "execution_count": 5,
      "outputs": []
    },
    {
      "cell_type": "code",
      "source": [
        "assembler = VectorAssembler(inputCols=['A', 'B', 'C', 'D'],outputCol='features')"
      ],
      "metadata": {
        "id": "tw4XuYbea5Sz"
      },
      "execution_count": 6,
      "outputs": []
    },
    {
      "cell_type": "code",
      "source": [
        "output = assembler.transform(data)"
      ],
      "metadata": {
        "id": "uL5LvxCya_gA"
      },
      "execution_count": 7,
      "outputs": []
    },
    {
      "cell_type": "code",
      "source": [
        "from pyspark.ml.classification import RandomForestClassifier,DecisionTreeClassifier"
      ],
      "metadata": {
        "id": "pevHglNxbEEf"
      },
      "execution_count": 8,
      "outputs": []
    },
    {
      "cell_type": "code",
      "source": [
        "dtc = DecisionTreeClassifier(labelCol='Spoiled',featuresCol='features')\n",
        "rfc = RandomForestClassifier(labelCol='Spoiled',featuresCol='features')"
      ],
      "metadata": {
        "id": "r9rY_hnqbJ67"
      },
      "execution_count": 9,
      "outputs": []
    },
    {
      "cell_type": "code",
      "source": [
        "\n",
        "final_data = output.select('features','Spoiled')"
      ],
      "metadata": {
        "id": "Cri_cu4BbWId"
      },
      "execution_count": 10,
      "outputs": []
    },
    {
      "cell_type": "code",
      "source": [
        "final_data.show()"
      ],
      "metadata": {
        "colab": {
          "base_uri": "https://localhost:8080/"
        },
        "id": "0e9Rw0OTbgxz",
        "outputId": "10768578-ed83-49d7-88b2-4279a479e403"
      },
      "execution_count": 12,
      "outputs": [
        {
          "output_type": "stream",
          "name": "stdout",
          "text": [
            "+-------------------+-------+\n",
            "|           features|Spoiled|\n",
            "+-------------------+-------+\n",
            "| [4.0,2.0,12.0,3.0]|    1.0|\n",
            "| [5.0,6.0,12.0,7.0]|    1.0|\n",
            "| [6.0,2.0,13.0,6.0]|    1.0|\n",
            "| [4.0,2.0,12.0,1.0]|    1.0|\n",
            "| [4.0,2.0,12.0,3.0]|    1.0|\n",
            "|[10.0,3.0,13.0,9.0]|    1.0|\n",
            "| [8.0,5.0,14.0,5.0]|    1.0|\n",
            "| [5.0,8.0,12.0,8.0]|    1.0|\n",
            "| [6.0,5.0,12.0,9.0]|    1.0|\n",
            "| [3.0,3.0,12.0,1.0]|    1.0|\n",
            "| [9.0,8.0,11.0,3.0]|    1.0|\n",
            "|[1.0,10.0,12.0,3.0]|    1.0|\n",
            "|[1.0,5.0,13.0,10.0]|    1.0|\n",
            "|[2.0,10.0,12.0,6.0]|    1.0|\n",
            "|[1.0,10.0,11.0,4.0]|    1.0|\n",
            "| [5.0,3.0,12.0,2.0]|    1.0|\n",
            "| [4.0,9.0,11.0,8.0]|    1.0|\n",
            "| [5.0,1.0,11.0,1.0]|    1.0|\n",
            "|[4.0,9.0,12.0,10.0]|    1.0|\n",
            "| [5.0,8.0,10.0,9.0]|    1.0|\n",
            "+-------------------+-------+\n",
            "only showing top 20 rows\n",
            "\n"
          ]
        }
      ]
    },
    {
      "cell_type": "code",
      "source": [
        "dtc_model = dtc.fit(final_data)\n",
        "rfc_model = rfc.fit(final_data)"
      ],
      "metadata": {
        "id": "nZ1n9UR6btiU"
      },
      "execution_count": 13,
      "outputs": []
    },
    {
      "cell_type": "code",
      "source": [
        "final_data.head(1)"
      ],
      "metadata": {
        "colab": {
          "base_uri": "https://localhost:8080/"
        },
        "id": "KQ03t9ABbzVh",
        "outputId": "b155f1bc-5f37-45dc-cf70-7d10894ae91f"
      },
      "execution_count": 14,
      "outputs": [
        {
          "output_type": "execute_result",
          "data": {
            "text/plain": [
              "[Row(features=DenseVector([4.0, 2.0, 12.0, 3.0]), Spoiled=1.0)]"
            ]
          },
          "metadata": {},
          "execution_count": 14
        }
      ]
    },
    {
      "cell_type": "code",
      "source": [
        "rfc_model.featureImportances"
      ],
      "metadata": {
        "colab": {
          "base_uri": "https://localhost:8080/"
        },
        "id": "ky0fKnxscDtJ",
        "outputId": "0385ee85-3614-4315-f7ba-0bb1ca5ce15c"
      },
      "execution_count": 15,
      "outputs": [
        {
          "output_type": "execute_result",
          "data": {
            "text/plain": [
              "SparseVector(4, {0: 0.0174, 1: 0.0125, 2: 0.9487, 3: 0.0214})"
            ]
          },
          "metadata": {},
          "execution_count": 15
        }
      ]
    },
    {
      "cell_type": "code",
      "source": [
        "dtc_model.featureImportances"
      ],
      "metadata": {
        "colab": {
          "base_uri": "https://localhost:8080/"
        },
        "id": "dyappezgcn-L",
        "outputId": "35f2f147-db9a-4e2e-da14-f029666d3b49"
      },
      "execution_count": 16,
      "outputs": [
        {
          "output_type": "execute_result",
          "data": {
            "text/plain": [
              "SparseVector(4, {1: 0.0019, 2: 0.9832, 3: 0.0149})"
            ]
          },
          "metadata": {},
          "execution_count": 16
        }
      ]
    },
    {
      "cell_type": "markdown",
      "source": [
        "# **Chemical C is the culprit**"
      ],
      "metadata": {
        "id": "tBm43kGldQR0"
      }
    }
  ]
}